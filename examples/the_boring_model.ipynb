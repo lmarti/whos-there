{
 "cells": [
  {
   "cell_type": "markdown",
   "metadata": {},
   "source": [
    "# The Boring Model"
   ]
  },
  {
   "cell_type": "markdown",
   "metadata": {},
   "source": [
    "## Setup Env"
   ]
  },
  {
   "cell_type": "code",
   "execution_count": null,
   "metadata": {},
   "outputs": [],
   "source": [
    "!pip install pytorch-lightning --upgrade\n",
    "!pip install lightning-bolts"
   ]
  },
  {
   "cell_type": "markdown",
   "metadata": {},
   "source": [
    "## Dependencies"
   ]
  },
  {
   "cell_type": "code",
   "execution_count": null,
   "metadata": {},
   "outputs": [],
   "source": [
    "import os\n",
    "\n",
    "import torch\n",
    "from torch import nn\n",
    "from torch.nn import functional as F\n",
    "from torch.utils.data import DataLoader, random_split, Dataset\n",
    "from torchvision.datasets import MNIST\n",
    "from torchvision import transforms\n",
    "import pytorch_lightning as pl\n",
    "from whos_there.callback import NotificationCallback\n",
    "from whos_there.senders.debug import DebugSender\n",
    "tmpdir = os.getcwd()"
   ]
  },
  {
   "cell_type": "markdown",
   "metadata": {},
   "source": [
    "## Data\n",
    "\n",
    "Random data is best for debugging. If you needs special tensor shapes or batch compositions or dataloaders, modify as needed"
   ]
  },
  {
   "cell_type": "code",
   "execution_count": null,
   "metadata": {},
   "outputs": [],
   "source": [
    "# some other options for random data\n",
    "from pl_bolts.datasets import RandomDataset, DummyDataset, RandomDictDataset"
   ]
  },
  {
   "cell_type": "code",
   "execution_count": null,
   "metadata": {},
   "outputs": [],
   "source": [
    "class RandomDataset(Dataset):\n",
    "    def __init__(self, size, num_samples):\n",
    "        self.len = num_samples\n",
    "        self.data = torch.randn(num_samples, size)\n",
    "\n",
    "    def __getitem__(self, index):\n",
    "        return self.data[index]\n",
    "\n",
    "    def __len__(self):\n",
    "        return self.len"
   ]
  },
  {
   "cell_type": "code",
   "execution_count": null,
   "metadata": {},
   "outputs": [],
   "source": [
    "class RandomDataModule(pl.LightningDataModule):\n",
    "    def __init__(self, size: int = 32, num_samples: int = 10000, batch_size: int = 32):\n",
    "        super().__init__()\n",
    "        self.size = size\n",
    "        self.num_sampes = num_samples\n",
    "        self.batch_size = batch_size\n",
    "\n",
    "    def setup(self, stage: Optional[str] = None):\n",
    "        self.mnist_test = RandomDataset(self.size, self.num_sampes)\n",
    "        self.mnist_train = RandomDataset(self.size, self.num_sampes)\n",
    "        self.mnist_val = RandomDataset(self.size, self.num_sampes)\n",
    "\n",
    "    def train_dataloader(self):\n",
    "        return DataLoader(self.mnist_train, batch_size=self.batch_size)\n",
    "\n",
    "    def val_dataloader(self):\n",
    "        return DataLoader(self.mnist_val, batch_size=self.batch_size)\n",
    "\n",
    "    def test_dataloader(self):\n",
    "        return DataLoader(self.mnist_test, batch_size=self.batch_size)"
   ]
  },
  {
   "cell_type": "markdown",
   "metadata": {},
   "source": [
    "## Model\n",
    "\n",
    "Modify this as needed to replicate your bug"
   ]
  },
  {
   "cell_type": "code",
   "execution_count": null,
   "metadata": {},
   "outputs": [],
   "source": [
    "import torch\n",
    "from pytorch_lightning import LightningModule\n",
    "from torch.utils.data import Dataset\n",
    "\n",
    "class BoringModel(LightningModule):\n",
    "\n",
    "    def __init__(self):\n",
    "        super().__init__()\n",
    "        self.layer = torch.nn.Linear(32, 2)\n",
    "\n",
    "    def forward(self, x):\n",
    "        return self.layer(x)\n",
    "\n",
    "    def loss(self, batch, prediction):\n",
    "        # An arbitrary loss to have a loss that updates the model weights during `Trainer.fit` calls\n",
    "        return torch.nn.functional.mse_loss(prediction, torch.ones_like(prediction))\n",
    "\n",
    "    def training_step(self, batch, batch_idx):\n",
    "        output = self.layer(batch)\n",
    "        loss = self.loss(batch, output)\n",
    "        return {\"loss\": loss}\n",
    "\n",
    "    def training_step_end(self, training_step_outputs):\n",
    "        return training_step_outputs\n",
    "\n",
    "    def training_epoch_end(self, outputs) -> None:\n",
    "        torch.stack([x[\"loss\"] for x in outputs]).mean()\n",
    "\n",
    "    def validation_step(self, batch, batch_idx):\n",
    "        output = self.layer(batch)\n",
    "        loss = self.loss(batch, output)\n",
    "        return {\"x\": loss}\n",
    "\n",
    "    def validation_epoch_end(self, outputs) -> None:\n",
    "        torch.stack([x['x'] for x in outputs]).mean()\n",
    "\n",
    "    def test_step(self, batch, batch_idx):\n",
    "        output = self.layer(batch)\n",
    "        loss = self.loss(batch, output)\n",
    "        self.log('fake_test_acc', loss)\n",
    "        return {\"y\": loss}\n",
    "\n",
    "    def test_epoch_end(self, outputs) -> None:\n",
    "        torch.stack([x[\"y\"] for x in outputs]).mean()\n",
    "\n",
    "    def configure_optimizers(self):\n",
    "        optimizer = torch.optim.SGD(self.layer.parameters(), lr=0.1)\n",
    "        lr_scheduler = torch.optim.lr_scheduler.StepLR(optimizer, step_size=1)\n",
    "        return [optimizer], [lr_scheduler]"
   ]
  },
  {
   "cell_type": "markdown",
   "metadata": {},
   "source": [
    "## Training"
   ]
  },
  {
   "cell_type": "code",
   "execution_count": null,
   "metadata": {},
   "outputs": [],
   "source": [
    "dm = RandomDataModule()\n",
    "\n",
    "model = BoringModel()\n",
    "\n",
    "# Initialize a trainer\n",
    "trainer = pl.Trainer(\n",
    "    max_epochs=1,\n",
    "    progress_bar_refresh_rate=20,\n",
    "    callbacks=[\n",
    "        NotificationCallback(senders=[\n",
    "            DebugSender(print=True),\n",
    "        ])\n",
    "    ]\n",
    ")\n",
    "\n",
    "# Train the model ⚡\n",
    "trainer.fit(model, datamodule=dm)\n",
    "\n",
    "trainer.test(datamodule=dm)"
   ]
  }
 ],
 "metadata": {
  "language_info": {
   "name": "python"
  },
  "orig_nbformat": 4
 },
 "nbformat": 4,
 "nbformat_minor": 2
}
